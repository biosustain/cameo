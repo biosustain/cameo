{
 "cells": [
  {
   "cell_type": "code",
   "execution_count": 1,
   "metadata": {
    "collapsed": false
   },
   "outputs": [],
   "source": [
    "from cameo import load_model"
   ]
  },
  {
   "cell_type": "code",
   "execution_count": 2,
   "metadata": {
    "collapsed": false
   },
   "outputs": [],
   "source": [
    "model = load_model(\"iJR904\")"
   ]
  },
  {
   "cell_type": "code",
   "execution_count": 3,
   "metadata": {
    "collapsed": false
   },
   "outputs": [
    {
     "data": {
      "text/html": [
       "<table>\n",
       "<tr>\n",
       "<td>Name</td>\n",
       "<td>MODELID_1461534</td>\n",
       "</tr>\n",
       "<tr>\n",
       "<td>Number of metabolites</td>\n",
       "<td>761</td>\n",
       "</tr>\n",
       "<tr>\n",
       "<td>Number of reactions</td>\n",
       "<td>1075</td>\n",
       "</tr>\n",
       "<tr>\n",
       "<td>Reactions</td>\n",
       "<td><div style=\"width:100%; max-height:300px; overflow:auto\">12ppd_dsh_S_e <=> 12ppd_dsh_S_c<br>h_c + nadh_c + 2dhglcn_c --> glcn_c + nad_c<br>h_c + nadph_c + 2dhglcn_c --> glcn_c + nadp_c<br>h_c + nadh_c + 2dhguln_c --> idon_dsh_L_c + nad_c<br>nadph_c + 2dhguln_c + h_c --> nadp_c + idon_dsh_L_c<br>o2_c + h_c + nadh_c + 3hcinnm_c --> nad_c + h2o_c + dhcinnm_c<br>h_c + nadh_c + o2_c + 3hpppn_c --> nad_c + dhpppn_c + h2o_c<br>h2o_c + phthr_c --> 4hthr_c + pi_c<br>5dglcn_c + h_c + nadph_c <=> glcn_c + nadp_c<br>ru5p_dsh_D_c <=> ara5p_c<br>ttdca_c + ACP_c + atp_c --> amp_c + myrsACP_c + ppi_c<br>ttdcea_c + atp_c + ACP_c --> amp_c + tdeACP_c + ppi_c<br>ACP_c + atp_c + hdca_c --> amp_c + palmACP_c + ppi_c<br>hdcea_c + ACP_c + atp_c --> amp_c + hdeACP_c + ppi_c<br>ocdcea_c + atp_c + ACP_c --> amp_c + octeACP_c + ppi_c<br>unagamu_c + dtdp4aaddg_c --> dtdp_c + unagamuf_c + h_c<br>h2o_c + arbt6p_c --> g6p_c + hqn_c<br>akg_c + 4abut_c --> glu_dsh_L_c + sucsal_c<br>nad_c + h2o_c + 4abutn_c --> 4abut_c + 2.0 h_c + nadh_c<br>h_e + 4abut_e --> 4abut_c + h_c<br>accoa_c + acac_c --> aacoa_c + ac_c<br>2.0 accoa_c <=> aacoa_c + coa_c<br>h_e + acac_e <=> acac_c + h_c<br>coa_c + nad_c + acald_c --> h_c + nadh_c + accoa_c<br>acald_e <=> acald_c<br>gtp_c + h_c + adocbip_c --> agdpcbi_c + ppi_c<br>hco3_c + atp_c + accoa_c <=> pi_c + h_c + adp_c + malcoa_c<br>coa_c + atp_c + ppa_c --> ppcoa_c + pi_c + adp_c<br>uacgam_c + udcpp_c --> ump_c + unaga_c<br>pep_c + acgam_e --> acgam6p_c + pyr_c<br>atp_c + acglu_c --> acg5p_c + adp_c<br>glu_dsh_L_c + accoa_c --> h_c + coa_c + acglu_c<br>h_c + pyr_c + 2obut_c --> co2_c + 2ahbut_c<br>atp_c + ac_c <=> actp_c + adp_c<br>h_c + 2.0 pyr_c --> co2_c + alac_dsh_S_c<br>unaga_c + uacmamu_c --> h_c + udp_c + unagamu_c<br>pep_c + acmana_e --> acmanap_c + pyr_c<br>h_e + acnam_e --> acnam_c + h_c<br>acnam_c --> acmana_c + pyr_c<br>accoa_c + ACP_c <=> coa_c + acACP_c<br>h2o_c + acorn_c --> orn_c + ac_c<br>acon_dsh_T_c + amet_c --> ahcys_c + aconm_c<br>cit_c <=> icit_c<br>akg_c + acorn_c <=> acg5sa_c + glu_dsh_L_c<br>apoACP_c + coa_c --> h_c + pap_c + ACP_c<br>coa_c + ac_c + atp_c --> accoa_c + ppi_c + amp_c<br>h_e + ac_e <=> ac_c + h_c<br>h_c + h2o_c + adn_c --> ins_c + nh4_c<br>4adcho_c --> h_c + 4abz_c + pyr_c<br>chor_c + gln_dsh_L_c --> glu_dsh_L_c + 4adcho_c<br>h2o_c + ade_c + h_c --> nh4_c + hxan_c<br>h_e + ade_e <=> ade_c + h_c<br>2.0 h_c + 2.0 nadh_c + accoa_c <=> coa_c + 2.0 nad_c + etoh_c<br>atp_c + amp_c <=> 2.0 adp_c<br>gtp_c + amp_c <=> gdp_c + adp_c<br>itp_c + amp_c <=> idp_c + adp_c<br>h_c + amet_c <=> co2_c + ametam_c<br>atp_c --> camp_c + ppi_c<br>atp_c + adn_c --> adp_c + amp_c + h_c<br>h_e + adn_e --> adn_c + h_c<br>h_e + adn_e <=> adn_c + h_c<br>atp_c + adocbi_c --> adocbip_c + adp_c + h_c<br>rdmbzi_c + agdpcbi_c --> gmp_c + adocbl_c + h_c<br>prpp_c + ade_c --> amp_c + ppi_c<br>atp_c + aps_c --> paps_c + adp_c + h_c<br>dcamp_c <=> fum_c + amp_c<br>25aics_c <=> aicar_c + fum_c<br>imp_c + asp_dsh_L_c + gtp_c --> pi_c + 2.0 h_c + gdp_c + dcamp_c<br>h2o_c + acgam6p_c --> ac_c + gam6p_c<br>adphep_dsh_DD_c --> adphep_dsh_LD_c<br>h2o_c + agm_c --> ptrc_c + urea_c<br>nadp_c + acg5sa_c + pi_c <=> acg5p_c + nadph_c + h_c<br>h2o_c + ahcys_c <=> hcys_dsh_L_c + adn_c<br>h2o_c + ahcys_c --> rhcys_c + ade_c<br>10fthf_c + aicar_c <=> fprica_c + thf_c<br>hco3_c + air_c + atp_c --> pi_c + h_c + 5caiz_c + adp_c<br>5aizc_c <=> 5caiz_c<br>coa_c + nad_c + akg_c --> succoa_c + co2_c + nadh_c<br>akg_e + h_e <=> h_c + akg_c<br>atp_c + 2.0 ala_dsh_D_c <=> pi_c + h_c + alaala_c + adp_c<br>ala_dsh_L_c <=> ala_dsh_D_c<br>ala_dsh_L_c --> ala_dsh_D_c<br>ala_dsh_D_c + pydx5p_c --> pyam5p_c + pyr_c<br>akg_c + ala_dsh_L_c <=> glu_dsh_L_c + pyr_c<br>pydx5p_c + ala_dsh_L_c --> pyam5p_c + pyr_c<br>atp_c + ala_dsh_L_e + h2o_c --> ala_dsh_L_c + pi_c + h_c + adp_c<br>h_e + ala_dsh_L_e <=> ala_dsh_L_c + h_c<br>h_c + glyald_c + nadh_c <=> glyc_c + nad_c<br>pacald_c + nad_c + h2o_c --> nadh_c + 2.0 h_c + pac_c<br>nad_c + acald_c + h2o_c --> ac_c + 2.0 h_c + nadh_c<br>h2o_c + alltt_c --> urdglyc_c + urea_c<br>h2o_c + alltn_c --> alltt_c + h_c<br>h_e + alltn_e <=> alltn_c + h_c<br>altrn_c --> 2ddglcn_c + h2o_c<br>malt_c + malttr_c --> maltttr_c + glc_dsh_D_c<br>malt_c + maltttr_c --> maltpt_c + glc_dsh_D_c<br>malt_c + maltpt_c --> malthx_c + glc_dsh_D_c<br>malt_c + malthx_c --> malthp_c + glc_dsh_D_c<br>acmanap_c --> acgam6p_c<br>acmana_c + atp_c --> h_c + adp_c + acmanap_c<br>8aonn_c + amet_c <=> amob_c + dann_c<br>2dmmq8_c + amet_c --> h_c + ahcys_c + mqn8_c<br>air_c + h2o_c --> 4ampm_c + 2.0 for_c + 4.0 h_c<br>h2o_c + amp_c --> ade_c + r5p_c<br>prpp_c + anth_c --> ppi_c + pran_c<br>gln_dsh_L_c + chor_c --> pyr_c + h_c + anth_c + glu_dsh_L_c<br>h_c + ala_dsh_L_c + pmcoa_c <=> coa_c + 8aonn_c + co2_c<br>h2o_c + ap4a_c --> 2.0 adp_c + 2.0 h_c<br>h2o_c + ap5a_c --> atp_c + adp_c + 2.0 h_c<br>nadph_c + 5apru_c + h_c --> 5aprbu_c + nadp_c<br>arab_dsh_L_c <=> rbl_dsh_L_c<br>atp_c + arab_dsh_L_e + h2o_c --> h_c + pi_c + arab_dsh_L_c + adp_c<br>h_e + arab_dsh_L_e <=> arab_dsh_L_c + h_c<br>h_c + arg_dsh_L_c --> agm_c + co2_c<br>orn_c + arg_dsh_L_e <=> orn_e + arg_dsh_L_c<br>argsuc_c <=> fum_c + arg_dsh_L_c<br>atp_c + asp_dsh_L_c + citr_dsh_L_c --> amp_c + argsuc_c + h_c + ppi_c<br>atp_c + arg_dsh_L_e + h2o_c --> arg_dsh_L_c + pi_c + h_c + adp_c<br>nadp_c + pi_c + aspsa_c <=> nadph_c + h_c + 4pasp_c<br>h2o_c + asn_dsh_L_c --> asp_dsh_L_c + nh4_c<br>gln_dsh_L_c + atp_c + asp_dsh_L_c + h2o_c --> amp_c + h_c + glu_dsh_L_c + ppi_c + asn_dsh_L_c<br>atp_c + asp_dsh_L_c + nh4_c --> amp_c + h_c + ppi_c + asn_dsh_L_c<br>atp_c + asn_dsh_L_e + h2o_c --> asn_dsh_L_c + pi_c + h_c + adp_c<br>h_e + asn_dsh_L_e <=> asn_dsh_L_c + h_c<br>h_c + asp_dsh_L_c --> ala_dsh_B_c + co2_c<br>cbp_c + asp_dsh_L_c --> cbasp_c + pi_c + h_c<br>atp_c + asp_dsh_L_c <=> 4pasp_c + adp_c<br>q8_c + asp_dsh_L_c --> iasp_c + q8h2_c<br>mqn8_c + asp_dsh_L_c --> iasp_c + mql8_c<br>fum_c + asp_dsh_L_c --> iasp_c + succ_c<br>o2_c + asp_dsh_L_c --> h2o2_c + iasp_c<br>asp_dsh_L_c --> fum_c + nh4_c<br>akg_c + asp_dsh_L_c <=> glu_dsh_L_c + oaa_c<br>atp_c + asp_dsh_L_e + h2o_c --> pi_c + h_c + asp_dsh_L_c + adp_c<br>h_e + asp_dsh_L_e --> asp_dsh_L_c + h_c<br>2.0 h_e + asp_dsh_L_e --> asp_dsh_L_c + 2.0 h_c<br>3.0 h_e + asp_dsh_L_e --> asp_dsh_L_c + 3.0 h_c<br>succoa_c + arg_dsh_L_c --> h_c + coa_c + sucarg_c<br>atp_c + h2o_c --> pi_c + adp_c + h_c<br>atp_c + prpp_c --> ppi_c + prbatp_c<br>pi_c + 4.0 h_e + adp_c <=> 3.0 h_c + atp_c + h2o_c<br>betald_c + nad_c + h2o_c --> glyb_c + 2.0 h_c + nadh_c<br>nadp_c + betald_c + h2o_c --> nadph_c + glyb_c + 2.0 h_c<br>h2o_c + pap_c --> amp_c + pi_c<br>btnso_c + h_c + nadh_c --> btn_c + nad_c + h2o_c<br>btnso_c + nadph_c + h_c --> nadp_c + h2o_c + btn_c<br>cys_dsh_L_c + dtbt_c <=> ala_dsh_L_c + btn_c + 2.0 h_c<br>but_c + accoa_c --> ac_c + btcoa_c<br>h_e + but_e <=> but_c + h_c<br>0.035 ptrc_c + 0.000129 clpn_EC_c + 0.154 glycogen_c + 0.00013 nadp_c + 0.0084 lps_EC_c + 0.0247 dttp_c + 0.007 spmd_c + 0.326 lys_dsh_L_c + 0.0254 dctp_c + 0.09 his_dsh_L_c + 0.0254 dgtp_c + 0.001935 pe_EC_c + 0.203 gtp_c + 0.488 ala_dsh_L_c + 1e-05 fad_c + 6e-06 coa_c + 0.126 ctp_c + 0.00215 nad_c + 0.003 udpg_c + 0.25 glu_dsh_L_c + 0.205 ser_dsh_L_c + 5e-05 nadh_c + 0.428 leu_dsh_L_c + 0.000464 pg_EC_c + 0.0247 datp_c + 0.136 utp_c + 0.281 arg_dsh_L_c + 0.087 cys_dsh_L_c + 0.21 pro_dsh_L_c + 0.582 gly_c + 0.0276 peptido_EC_c + 45.5608 h2o_c + 0.054 trp_dsh_L_c + 0.276 ile_dsh_L_c + 0.25 gln_dsh_L_c + 0.131 tyr_dsh_L_c + 0.229 asn_dsh_L_c + 0.241 thr_dsh_L_c + 45.7318 atp_c + 5.2e-05 ps_EC_c + 0.0004 nadph_c + 3e-06 succoa_c + 5e-05 accoa_c + 0.229 asp_dsh_L_c + 0.176 phe_dsh_L_c + 0.001 amp_c + 0.05 5mthf_c + 0.146 met_dsh_L_c + 0.402 val_dsh_L_c --> 45.5628 pi_c + 45.5608 adp_c + 45.56035 h_c + 0.7302 ppi_c<br>4.0 malACP_c + 10.0 nadph_c + 14.0 h_c + actACP_c --> 10.0 nadp_c + ddcaACP_c + 4.0 co2_c + 5.0 h2o_c + 4.0 ACP_c<br>actACP_c + 5.0 malACP_c + 12.0 nadph_c + 17.0 h_c --> 12.0 nadp_c + myrsACP_c + 6.0 h2o_c + 5.0 ACP_c + 5.0 co2_c<br>5.0 malACP_c + 11.0 nadph_c + 16.0 h_c + actACP_c --> 11.0 nadp_c + 5.0 ACP_c + 5.0 co2_c + 6.0 h2o_c + tdeACP_c<br>6.0 malACP_c + 14.0 nadph_c + 20.0 h_c + actACP_c --> 14.0 nadp_c + palmACP_c + 6.0 co2_c + 7.0 h2o_c + 6.0 ACP_c<br>actACP_c + 6.0 malACP_c + 13.0 nadph_c + 19.0 h_c --> 13.0 nadp_c + 6.0 co2_c + 7.0 h2o_c + 6.0 ACP_c + hdeACP_c<br>actACP_c + 7.0 malACP_c + 15.0 nadph_c + 22.0 h_c --> 15.0 nadp_c + 7.0 co2_c + 8.0 h2o_c + 7.0 ACP_c + octeACP_c<br>15dap_c + lys_dsh_L_e + h_e --> h_c + lys_dsh_L_c + 15dap_e<br>2.0 h2o2_c --> 2.0 h2o_c + o2_c<br>cbi_c + atp_c + h2o_c <=> adocbi_c + pi_c + ppi_c<br>cbl1_e + atp_c + h2o_c --> h_c + pi_c + cbl1_c + adp_c<br>atp_c + h2o_c + cbl1_c <=> pi_c + adocbl_c + ppi_c<br>atp_c + co2_c + nh4_c --> cbp_c + 2.0 h_c + adp_c<br>gln_dsh_L_c + hco3_c + 2.0 atp_c + h2o_c --> cbp_c + pi_c + 2.0 adp_c + 2.0 h_c + glu_dsh_L_c<br>0.02 cdpdag_EC_c + h2o_c --> cmp_c + 0.02 pa_EC_c + 2.0 h_c<br>4c2me_c + atp_c --> 2p4c2me_c + adp_c + h_c<br>chol_e + atp_c + h2o_c --> chol_c + h_c + pi_c + adp_c<br>chol_e + h_e <=> h_c + chol_c<br>chor_c --> pphn_c<br>3psme_c --> pi_c + chor_c<br>chor_c --> 4hbz_c + pyr_c<br>nadh_c + h_c + cinnm_c + o2_c --> nad_c + cenchddd_c<br>cit_c --> ac_c + oaa_c<br>cit_e + succ_c --> cit_c + succ_e<br>0.04 pg_EC_c <=> 0.02 clpn_EC_c + glyc_c<br>h2o_c + cmp_c --> csn_c + r5p_c<br>co2_e <=> co2_c<br>o2_c + cpppg3_c + 2.0 h_c --> pppg9_c + 2.0 co2_c + 2.0 h2o_c<br>crn_c + bbtcoa_c <=> crncoa_c + gbbtn_c<br>ctbtcoa_c + crn_c <=> crncoa_c + ctbt_c<br>crncoa_c <=> ctbtcoa_c + h2o_c<br>crn_e + gbbtn_c --> crn_c + gbbtn_e<br>oaa_c + h2o_c + accoa_c --> cit_c + coa_c + h_c<br>h2o_c + h_c + csn_c --> nh4_c + ura_c<br>csn_e + h_e --> csn_c + h_c<br>gln_dsh_L_c + utp_c + atp_c + h2o_c --> ctp_c + pi_c + adp_c + 2.0 h_c + glu_dsh_L_c<br>cyan_c + tsul_c --> so3_c + tcynt_c + h_c<br>cynt_c + 3.0 h_c + hco3_c --> 2.0 co2_c + nh4_c<br>h_e + cynt_e --> cynt_c + h_c<br>cys_dsh_L_c + h2o_c --> pyr_c + h2s_c + nh4_c<br>h2s_c + acser_c --> cys_dsh_L_c + h_c + ac_c<br>cyst_dsh_L_c + h2o_c --> pyr_c + hcys_dsh_L_c + nh4_c<br>atp_c + cys_dsh_L_e + h2o_c --> h_c + pi_c + cys_dsh_L_c + adp_c<br>2.0 h_c + 0.5 o2_c + q8h2_c --> q8_c + 2.0 h_e + h2o_c<br>2.5 h_c + 0.5 o2_c + q8h2_c --> q8_c + 2.5 h_e + h2o_c<br>h2o_c + h_c + cytd_c --> nh4_c + uri_c<br>gtp_c + cytd_c --> cmp_c + gdp_c + h_c<br>cytd_e + h_e --> cytd_c + h_c<br>cytd_e + h_e <=> cytd_c + h_c<br>cmp_c + atp_c <=> cdp_c + adp_c<br>atp_c + dcmp_c <=> dcdp_c + adp_c<br>fad_c + ala_dsh_D_c + h2o_c --> pyr_c + fadh2_c + nh4_c<br>h2o_c + h_c + dad_dsh_2_c --> nh4_c + din_c<br>atp_c + damp_c <=> adp_c + dadp_c<br>dad_dsh_2_e + h_e --> dad_dsh_2_c + h_c<br>atp_c + 0.02 12dgr_EC_c --> 0.02 pa_EC_c + adp_c + h_c<br>ala_dsh_D_e + h_e <=> ala_dsh_D_c + h_c<br>26dap_dsh_M_c + h_c --> co2_c + lys_dsh_L_c<br>26dap_dsh_LL_c <=> 26dap_dsh_M_c<br>26dap_dsh_M_e + atp_c + h2o_c --> 26dap_dsh_M_c + h_c + pi_c + adp_c<br>h_c + 0.02 pa_EC_c + ctp_c <=> 0.02 cdpdag_EC_c + ppi_c<br>ru5p_dsh_D_c --> h_c + db4p_c + for_c<br>atp_c + co2_c + dann_c <=> dtbt_c + 3.0 h_c + pi_c + adp_c<br>h_c + h2o_c + dctp_c --> dutp_c + nh4_c<br>h_c + h2o_c + dcyt_c --> duri_c + nh4_c<br>h_e + dcyt_e --> dcyt_c + h_c<br>2dh3dgal_c + atp_c --> 2dh3dgal6p_c + adp_c + h_c<br>2ddglcn_e + h_e <=> 2ddglcn_c + h_c<br>2ddglcn_c + atp_c --> h_c + adp_c + 2ddg6p_c<br>h2o_c + e4p_c + pep_c --> pi_c + 2dda7p_c<br>2dh3dgal6p_c <=> g3p_c + pyr_c<br>atp_c + dgmp_c <=> dgdp_c + adp_c<br>dgsn_e + h_e --> dgsn_c + h_c<br>23dhmb_c --> 3mob_c + h2o_c<br>23dhmp_c --> 3mop_c + h2o_c<br>dha_c + pep_c --> dhap_c + pyr_c<br>dha_e <=> dha_c<br>nad_c + 23ddhb_c <=> nadh_c + 23dhb_c + h_c<br>23dhb_c + atp_c <=> ppi_c + 23dhba_c<br>cenchddd_c + nad_c --> dhcinnm_c + nadh_c + h_c<br>dhcinnm_c + o2_c --> hkntd_c<br>h_c + nadph_c + 23dhdp_c --> thdp_c + nadp_c<br>aspsa_c + pyr_c --> h_c + 23dhdp_c + 2.0 h2o_c<br>h_c + nadph_c + dhf_c <=> thf_c + nadp_c<br>dhpt_c + atp_c + glu_dsh_L_c --> dhf_c + pi_c + adp_c<br>octdp_c + dhna_c --> 2dmmq8_c + h_c + co2_c + ppi_c<br>dhnpt_c --> 6hmhpt_c + gcald_c<br>q8_c + dhor_dsh_S_c --> orot_c + q8h2_c<br>mqn8_c + dhor_dsh_S_c --> orot_c + mql8_c<br>h2o_c + dhor_dsh_S_c <=> cbasp_c + h_c<br>cechddd_c + nad_c --> nadh_c + dhpppn_c + h_c<br>25drapp_c + h_c + h2o_c --> 5apru_c + nh4_c<br>4abz_c + 6hmhptpp_c --> h_c + dhpt_c + ppi_c<br>dhptd_c --> h2o_c + hmfurn_c<br>3dhq_c <=> 3dhsk_c + h2o_c<br>2dda7p_c --> pi_c + 3dhq_c<br>h_e + din_e --> din_c + h_c<br>25dkglcn_c + h_c + nadph_c --> 2dhguln_c + nadp_c<br>25dkglcn_c + h_c + nadh_c --> 5dglcn_c + nad_c<br>25dkglcn_c + h_c + nadph_c --> 5dglcn_c + nadp_c<br>o2_c + h2o_c + dkmpp_c --> 2kmb_c + pi_c + 2.0 h_c + for_c<br>3.0 h2o_c + dkmpp_c --> 2kmb_c + pi_c + 6.0 h_c + for_c<br>dmpp_c + ipdp_c --> ppi_c + grdp_c<br>h2mb4p_c + h_c + nadh_c --> dmpp_c + nad_c + h2o_c<br>amet_c + 2omhmbl_c --> q8h2_c + ahcys_c + h_c<br>dmso_c + mql8_c --> dms_c + mqn8_c + h2o_c<br>dmso_e + mql8_c --> dms_e + mqn8_c + h2o_e<br>dmso_c + 2dmmql8_c --> 2dmmq8_c + dms_c + h2o_c<br>dmso_e + 2dmmql8_c --> 2dmmq8_c + dms_e + h2o_e<br>h2o_c + dhpmp_c --> dhnpt_c + pi_c<br>h2o_c + ahdt_c --> dhpmp_c + ppi_c + h_c<br>23doguln_c + h_c + nadh_c --> 3dhguln_c + nad_c<br>dpcoa_c + atp_c --> coa_c + adp_c + h_c<br>nadph_c + h_c + 2dhp_c --> nadp_c + pant_dsh_R_c<br>2dr5p_c --> g3p_c + acald_c<br>h_e + ser_dsh_D_e <=> h_c + ser_dsh_D_c<br>atp_c + dtmp_c <=> dtdp_c + adp_c<br>atp_c + duri_c --> dump_c + adp_c + h_c<br>pi_c + duri_c <=> 2dr1p_c + ura_c<br>h_e + duri_e --> duri_c + h_c<br>h2o_c + dutp_c --> dump_c + ppi_c + h_c<br>h_c + nadph_c + dxyl5p_c --> 2me4p_c + nadp_c<br>g3p_c + h_c + pyr_c --> co2_c + dxyl5p_c<br>atp_c + dxyl_c --> dxyl5p_c + adp_c + h_c<br>h_e + lac_dsh_D_e <=> h_c + lac_dsh_D_c<br>nad_c + e4p_c + h2o_c <=> 4per_c + 2.0 h_c + nadh_c<br>unagamuf_c --> udcpdp_c + h_c + eca_EC_c<br>2ddg6p_c --> g3p_c + pyr_c<br>6pgc_c --> 2ddg6p_c + h2o_c<br>kdo2lipid4_c + ddcaACP_c --> ACP_c + kdo2lipid4L_c<br>myrsACP_c + kdo2lipid4L_c --> lipa_c + ACP_c<br>kdo2lipid4_c + hdeACP_c --> kdo2lipid4p_c + ACP_c<br>myrsACP_c + kdo2lipid4p_c --> lipa_cold_c + ACP_c<br>2pg_c <=> h2o_c + pep_c<br>3.0 23dhba_c + 3.0 seramp_c --> enter_c + 6.0 amp_c + 6.0 h_c<br>etha_c --> acald_c + nh4_c<br>h_e + etoh_e <=> etoh_c + h_c<br>12ppd_dsh_S_e --> <br>15dap_e --> <br>26dap_dsh_M_e --> <br>2ddglcn_e --> <br>3hcinnm_e --> <br>3hpppn_e --> <br>4abut_e --> <br>ac_e --> <br>acac_e --> <br>acald_e --> <br>acgam_e --> <br>acmana_e --> <br>acnam_e --> <br>ade_e --> <br>adn_e --> <br>akg_e --> <br>ala_dsh_D_e --> <br>ala_dsh_L_e --> <br>alltn_e --> <br>amp_e --> <br>arab_dsh_L_e --> <br>arg_dsh_L_e --> <br>asn_dsh_L_e --> <br>asp_dsh_L_e --> <br>but_e --> <br>cbl1_e --> <br>chol_e --> <br>cit_e --> <br>co2_e <=> <br>crn_e --> <br>csn_e --> <br>cynt_e --> <br>cys_dsh_L_e --> <br>cytd_e --> <br>dad_dsh_2_e --> <br>dcyt_e --> <br>dgsn_e --> <br>dha_e --> <br>din_e --> <br>dms_e --> <br>dmso_e --> <br>duri_e --> <br>etoh_e --> <br>fe2_e <=> <br>for_e --> <br>fru_e --> <br>fuc1p_dsh_L_e --> <br>fuc_dsh_L_e --> <br>fum_e --> <br>g6p_e --> <br>gal_e --> <br>galct_dsh_D_e --> <br>galctn_dsh_D_e --> <br>galt_e --> <br>galur_e --> <br>gam_e --> <br>gbbtn_e --> <br>glc_dsh_D_e <-- <br>glcn_e --> <br>glcr_e --> <br>glcur_e --> <br>gln_dsh_L_e --> <br>glu_dsh_L_e --> <br>gly_e --> <br>glyald_e --> <br>glyb_e --> <br>glyc3p_e --> <br>glyc_e --> <br>glyclt_e --> <br>gsn_e --> <br>gua_e --> <br>h2o_e <=> <br>h_e <=> <br>hdca_e --> <br>his_dsh_L_e --> <br>hxan_e --> <br>idon_dsh_L_e --> <br>ile_dsh_L_e --> <br>indole_e --> <br>ins_e --> <br>k_e <=> <br>lac_dsh_D_e --> <br>lac_dsh_L_e --> <br>lcts_e --> <br>leu_dsh_L_e --> <br>lys_dsh_L_e --> <br>mal_dsh_L_e --> <br>malt_e --> <br>malthx_e --> <br>maltpt_e --> <br>malttr_e --> <br>maltttr_e --> <br>man6p_e --> <br>man_e --> <br>melib_e --> <br>met_dsh_D_e --> <br>met_dsh_L_e --> <br>mnl_e --> <br>na1_e <=> <br>nac_e --> <br>nad_e --> <br>nh4_e <=> <br>nmn_e --> <br>no2_e --> <br>no3_e --> <br>o2_e <-- <br>ocdca_e --> <br>orn_e --> <br>phe_dsh_L_e --> <br>pi_e <=> <br>pnto_dsh_R_e --> <br>pppn_e --> <br>pro_dsh_L_e --> <br>ptrc_e --> <br>pyr_e --> <br>rib_dsh_D_e --> <br>rmn_e --> <br>sbt_dsh_D_e --> <br>ser_dsh_D_e --> <br>ser_dsh_L_e --> <br>so4_e <=> <br>spmd_e --> <br>succ_e --> <br>sucr_e --> <br>tartr_dsh_L_e --> <br>taur_e --> <br>thm_e --> <br>thr_dsh_L_e --> <br>thymd_e --> <br>tma_e --> <br>tmao_e --> <br>tre_e --> <br>trp_dsh_L_e --> <br>tsul_e --> <br>ttdca_e --> <br>tyr_dsh_L_e --> <br>ura_e --> <br>urea_e --> <br>uri_e --> <br>val_dsh_L_e --> <br>xan_e --> <br>xtsn_e --> <br>xyl_dsh_D_e --> <br>f6p_c <=> dha_c + g3p_c<br>6.0 fad_c + 7.0 coa_c + atp_c + ttdca_c + 6.0 nad_c + 6.0 h2o_c --> 6.0 fadh2_c + 7.0 accoa_c + 6.0 h_c + 6.0 nadh_c + ppi_c + amp_c<br>7.0 fad_c + 8.0 coa_c + atp_c + 7.0 nad_c + hdca_c + 7.0 h2o_c --> 7.0 fadh2_c + 8.0 accoa_c + 7.0 h_c + 7.0 nadh_c + ppi_c + amp_c<br>8.0 fad_c + 9.0 coa_c + atp_c + 8.0 nad_c + ocdca_c + 8.0 h2o_c --> 8.0 fadh2_c + 9.0 accoa_c + 8.0 h_c + 8.0 nadh_c + ppi_c + amp_c<br>fad_c + nad_c + btcoa_c + h2o_c --> h_c + fadh2_c + nadh_c + aacoa_c<br>fdp_c <=> dhap_c + g3p_c<br>fdp_c + h2o_c --> pi_c + f6p_c<br>fuc_dsh_L_c <=> fcl_dsh_L_c<br>atp_c + fcl_dsh_L_c --> fc1p_c + adp_c + h_c<br>fc1p_c <=> dhap_c + lald_dsh_L_c<br>fe2_c + ppp9_c --> 2.0 h_c + pheme_c<br>3.0 h_c + q8_c + for_c --> 2.0 h_e + q8h2_c + co2_c<br>mqn8_c + 3.0 h_c + for_c --> 2.0 h_e + mql8_c + co2_c<br>atp_c + fe2_e + h2o_c --> h_c + pi_c + fe2_c + adp_c<br>h2o_c + suc6p_c --> g6p_c + fru_c<br>h_c + for_c --> co2_c + h2_c<br>atp_c + h_c + fmn_c --> ppi_c + fad_c<br>for_e <=> for_c<br>fum_c + mql8_c --> mqn8_c + succ_c<br>fum_c + 2dmmql8_c --> 2dmmq8_c + succ_c<br>atp_c + f1p_c --> adp_c + fdp_c + h_c<br>fru_e + pep_c --> f1p_c + pyr_c<br>fru_e + pep_c --> f6p_c + pyr_c<br>10fthf_c + h2o_c --> thf_c + for_c + h_c<br>fuc1p_dsh_L_e + 2.0 pi_c --> 2.0 pi_e + fuc1p_dsh_L_c<br>fuc_dsh_L_e + h_e <=> fuc_dsh_L_c + h_c<br>fum_c + h2o_c <=> mal_dsh_L_c<br>fum_e + 2.0 h_e --> fum_c + 2.0 h_c<br>fum_e + 3.0 h_e --> fum_c + 3.0 h_c<br>gam1p_c + accoa_c --> h_c + acgam1p_c + coa_c<br>g1p_c + h2o_c --> pi_c + glc_dsh_D_c<br>dttp_c + g1p_c + h_c --> ppi_c + dtdpglu_c<br>glu1sa_c --> 5aop_c<br>nadp_c + glyc3p_c <=> dhap_c + h_c + nadph_c<br>q8_c + glyc3p_c --> dhap_c + q8h2_c<br>mqn8_c + glyc3p_c --> dhap_c + mql8_c<br>glyc3p_c + 2dmmq8_c --> dhap_c + 2dmmql8_c<br>glu5sa_c --> 1pyr5c_c + h_c + h2o_c<br>nadph_c + h_c + glu5p_c --> nadp_c + glu5sa_c + pi_c<br>h2o_c + gam6p_c --> f6p_c + nh4_c<br>nadp_c + g6p_c <=> h_c + 6pgl_c + nadph_c<br>g6p_e + 2.0 pi_c --> g6p_c + 2.0 pi_e<br>galct_dsh_D_c --> 5dh4dglc_c + h2o_c<br>galctn_dsh_D_c --> 2dh3dgal_c + h2o_c<br>h_e + galctn_dsh_D_e <=> galctn_dsh_D_c + h_c<br>galct_dsh_D_e + h_e <=> galct_dsh_D_c + h_c<br>atp_c + gal_c <=> adp_c + gal1p_c + h_c<br>h2o_c + melib_c --> gal_c + glc_dsh_D_c<br>pep_c + galt_e --> galt1p_c + pyr_c<br>g1p_c + h_c + utp_c <=> udpg_c + ppi_c<br>h_e + galur_e <=> galur_c + h_c<br>g1p_c + h_c + utp_c --> udpg_c + ppi_c<br>gal_e + atp_c + h2o_c --> gal_c + h_c + pi_c + adp_c<br>gal_e + h_e --> gal_c + h_c<br>gam_e + pep_c --> gam6p_c + pyr_c<br>nad_c + pi_c + g3p_c <=> h_c + nadh_c + 13dpg_c<br>10fthf_c + gar_c <=> fgam_c + thf_c + h_c<br>atp_c + for_c + gar_c --> fgam_c + pi_c + h_c + adp_c<br>nad_c + gcald_c + h2o_c --> 2.0 h_c + glyclt_c + nadh_c<br>gdpddman_c --> gdpofuc_c<br>gln_dsh_L_c + f6p_c --> glu_dsh_L_c + gam6p_c<br>thf_c + ser_dsh_L_c --> mlthf_c + h2o_c + gly_c<br>atp_c + gmp_c <=> gdp_c + adp_c<br>h2o_e + glc_dsh_D_e + q8_c --> glcn_e + h_e + q8h2_c<br>glcn_e + h_e <=> glcn_c + h_c<br>glycogen_c + pi_c --> g1p_c<br>5dh4dglc_c --> pyr_c + 2h3oppan_c<br>glcr_c --> 5dh4dglc_c + h2o_c<br>glcr_e + h_e <=> glcr_c + h_c<br>adpglc_c --> glycogen_c + adp_c + h_c<br>glcur_e + h_e <=> glcur_c + h_c<br>glc_dsh_D_e + pep_c --> g6p_c + pyr_c<br>glc_dsh_D_e + h_e --> glc_dsh_D_c + h_c<br>atp_c + g1p_c + h_c --> adpglc_c + ppi_c<br>glu_dsh_L_c + atp_c + nh4_c --> gln_dsh_L_c + h_c + pi_c + adp_c<br>gln_dsh_L_e + atp_c + h2o_c --> gln_dsh_L_c + h_c + pi_c + adp_c<br>galt1p_c + nad_c <=> h_c + nadh_c + tag6p_dsh_D_c<br>atp_c + glu_dsh_L_c --> adp_c + glu5p_c<br>glu_dsh_L_e + 4abut_c <=> glu_dsh_L_c + 4abut_e<br>glu_dsh_L_c + cys_dsh_L_c + atp_c --> h_c + pi_c + glucys_c + adp_c<br>h_c + glu_dsh_L_c --> 4abut_c + co2_c<br>nadp_c + h2o_c + glu_dsh_L_c <=> akg_c + nadph_c + h_c + nh4_c<br>gln_dsh_L_c + h2o_c --> glu_dsh_L_c + nh4_c<br>gln_dsh_L_c + prpp_c + h2o_c --> glu_dsh_L_c + pram_c + ppi_c<br>glu_dsh_D_c <=> glu_dsh_L_c<br>gln_dsh_L_c + nadph_c + h_c + akg_c --> nadp_c + 2.0 glu_dsh_L_c<br>nadph_c + h_c + glutrna_c --> nadp_c + glu1sa_c + trnaglu_c<br>trnaglu_c + glu_dsh_L_c + atp_c --> amp_c + glutrna_c + ppi_c<br>glu_dsh_L_e + atp_c + h2o_c --> pi_c + glu_dsh_L_c + h_c + adp_c<br>h_e + glu_dsh_L_e <=> glu_dsh_L_c + h_c<br>glu_dsh_L_e + na1_e --> glu_dsh_L_c + na1_c<br>2.0 glx_c + h_c --> co2_c + 2h3oppan_c<br>glyald_e <=> glyald_c<br>coa_c + 2aobut_c --> gly_c + accoa_c<br>atp_c + glyb_e + h2o_c --> glyb_c + pi_c + h_c + adp_c<br>h_e + glyb_e <=> glyb_c + h_c<br>atp_c + glyc3p_e + h2o_c --> pi_c + glyc3p_c + h_c + adp_c<br>glyc3p_e + pi_c --> glyc3p_c + pi_e<br>glyc_c + nad_c --> dha_c + nadh_c + h_c<br>atp_c + glyc_dsh_R_c --> 3pg_c + adp_c + h_c<br>gly_c + thf_c + nad_c --> mlthf_c + nadh_c + co2_c + nh4_c<br>glx_c + h_c + nadh_c --> glyclt_c + nad_c<br>nadph_c + h_c + glx_c --> nadp_c + glyclt_c<br>glyclt_e + h_e <=> glyclt_c + h_c<br>glyclt_c + q8_c --> q8h2_c + glx_c<br>glyclt_c + mqn8_c --> glx_c + mql8_c<br>glyclt_c + 2dmmq8_c --> 2dmmql8_c + glx_c<br>glyc_c <=> glyc_e<br>atp_c + glyc_c --> glyc3p_c + adp_c + h_c<br>h2o_c + lgt_dsh_S_c --> gthrd_c + lac_dsh_D_c + h_c<br>h_e + gly_e <=> gly_c + h_c<br>gdpmann_c --> gdpddman_c + h2o_c<br>atp_c + gmhep1p_c + h_c --> adphep_dsh_DD_c + ppi_c<br>atp_c + gmhep7p_c --> adp_c + gmhep17bp_c + h_c<br>gmhep17bp_c + h2o_c --> pi_c + gmhep1p_c<br>gmp_c + nadph_c + 2.0 h_c --> nadp_c + nh4_c + imp_c<br>gln_dsh_L_c + xmp_c + atp_c + h2o_c --> amp_c + gmp_c + glu_dsh_L_c + 2.0 h_c + ppi_c<br>nadp_c + 6pgc_c --> co2_c + ru5p_dsh_D_c + nadph_c<br>atp_c + glcn_c --> 6pgc_c + adp_c + h_c<br>nadph_c + h_c + gdpofuc_c --> nadp_c + gdpfuc_c<br>gp4g_c + h2o_c --> 2.0 gdp_c + 2.0 h_c<br>g3pc_c + h2o_c --> h_c + glyc3p_c + chol_c<br>h2o_c + g3pe_c --> etha_c + glyc3p_c + h_c<br>h2o_c + g3ps_c --> glyc3p_c + h_c + ser_dsh_L_c<br>g3pg_c + h2o_c --> glyc_c + glyc3p_c + h_c<br>g3pi_c + h2o_c --> inost_c + glyc3p_c + h_c<br>grdp_c + ipdp_c --> ppi_c + frdp_c<br>gsn_c + atp_c --> adp_c + gmp_c + h_c<br>gsn_e + h_e --> gsn_c + h_c<br>h2o_c + gtspmd_c --> gthrd_c + spmd_c<br>atp_c + gthrd_c + spmd_c --> gtspmd_c + pi_c + h_c + adp_c<br>nadph_c + h_c + gthox_c <=> nadp_c + 2.0 gthrd_c<br>gly_c + glucys_c + atp_c --> gthrd_c + h_c + pi_c + adp_c<br>h2o_c + gtp_c --> ahdt_c + for_c<br>gtp_c + 3.0 h2o_c --> 25drapp_c + 2.0 h_c + for_c + ppi_c<br>h_c + h2o_c + gua_c --> xan_c + nh4_c<br>prpp_c + gua_c --> ppi_c + gmp_c<br>gua_e <=> gua_c<br>gua_e + h_e --> gua_c + h_c<br>glcur_c <=> fruur_c<br>galur_c <=> tagur_c<br>h2o_e <=> h2o_c<br>4hbz_c + octdp_c --> ppi_c + 3ophb_c<br>3hcinnm_e + h_e <=> 3hcinnm_c + h_c<br>h2o_c + co2_c <=> h_c + hco3_c<br>h_e + hdca_e --> h_c + hdca_c<br>h2o_c + pheme_c + frdp_c --> ppi_c + hemeO_c<br>atp_c + 4mhetz_c --> 4mpetz_c + adp_c + h_c<br>atp_c + glc_dsh_D_c --> g6p_c + adp_c + h_c<br>histd_c + 2.0 nad_c + h2o_c --> his_dsh_L_c + 3.0 h_c + 2.0 nadh_c<br>hisp_c + h2o_c --> histd_c + pi_c<br>atp_c + his_dsh_L_e + h2o_c --> his_dsh_L_c + h_c + pi_c + adp_c<br>h_e + his_dsh_L_e <=> his_dsh_L_c + h_c<br>h2o_c + hkndd_c --> 2.0 h_c + op4en_c + succ_c<br>hkntd_c + h2o_c --> fum_c + op4en_c + 2.0 h_c<br>h2o_c + 4.0 ppbng_c --> hmbil_c + 4.0 nh4_c<br>atp_c + 4ahmmp_c --> 4ampm_c + adp_c + h_c<br>4h2opntn_c --> acald_c + pyr_c<br>atp_c + 6hmhpt_c --> 6hmhptpp_c + amp_c + h_c<br>o2_c + dhpppn_c --> hkndd_c<br>3hpppn_e + h_e <=> 3hpppn_c + h_c<br>hpyr_c <=> 2h3oppan_c<br>hpyr_c + h_c + nadh_c --> glyc_dsh_R_c + nad_c<br>hpyr_c + h_c + nadph_c --> glyc_dsh_R_c + nadp_c<br>nadp_c + hom_dsh_L_c <=> h_c + aspsa_c + nadph_c<br>atp_c + hom_dsh_L_c --> phom_c + adp_c + h_c<br>succoa_c + hom_dsh_L_c --> suchms_c + coa_c<br>imacp_c + glu_dsh_L_c --> akg_c + hisp_c<br>prpp_c + hxan_c --> imp_c + ppi_c<br>2.0 h_c + h2_c + q8_c --> q8h2_c + 2.0 h_e<br>2.0 h_c + h2_c + mqn8_c --> mql8_c + 2.0 h_e<br>2.0 h_c + h2_c + 2dmmq8_c --> 2dmmql8_c + 2.0 h_e<br>pyam5p_c + h2o_c --> pydam_c + pi_c<br>hxan_e <=> hxan_c<br>nadp_c + icit_c <=> co2_c + akg_c + nadph_c<br>chor_c --> ichor_c<br>h2o_c + ichor_c --> 23ddhb_c + pyr_c<br>icit_c --> glx_c + succ_c<br>5dglcn_c + h_c + nadh_c <=> idon_dsh_L_c + nad_c<br>5dglcn_c + nadph_c + h_c --> nadp_c + idon_dsh_L_c<br>h_e + idon_dsh_L_e <=> h_c + idon_dsh_L_c<br>gln_dsh_L_c + prlp_c --> eig3p_c + aicar_c + h_c + glu_dsh_L_c<br>eig3p_c --> imacp_c + h2o_c<br>h_c + 2cpr5p_c --> co2_c + 3ig3p_c + h2o_c<br>akg_c + ile_dsh_L_c <=> glu_dsh_L_c + 3mop_c<br>atp_c + ile_dsh_L_e + h2o_c --> ile_dsh_L_c + pi_c + h_c + adp_c<br>h_e + ile_dsh_L_e <=> h_c + ile_dsh_L_c<br>h2o_c + imp_c <=> fprica_c<br>nad_c + h2o_c + imp_c --> xmp_c + h_c + nadh_c<br>indole_e + h_e <=> indole_c + h_c<br>atp_c + ins_c --> imp_c + adp_c + h_c<br>h_e + ins_e --> ins_c + h_c<br>h_e + ins_e <=> ins_c + h_c<br>ipdp_c --> dmpp_c<br>h_c + h2mb4p_c + nadh_c --> nad_c + ipdp_c + h2o_c<br>3c2hmp_c + nad_c --> nadh_c + 3c4mop_c + h_c<br>3c2hmp_c <=> 2ippm_c + h2o_c<br>h2o_c + 2ippm_c <=> 3c3hmp_c<br>3mob_c + h2o_c + accoa_c --> 3c3hmp_c + h_c + coa_c<br>h_c + nadph_c + alac_dsh_S_c --> 23dhmb_c + nadp_c<br>h_c + nadph_c + 2ahbut_c --> 23dhmp_c + nadp_c<br>acACP_c + malACP_c + h_c --> co2_c + ACP_c + actACP_c<br>malACP_c + h_c + accoa_c --> coa_c + actACP_c + co2_c<br>malACP_c + nadph_c + ddcaACP_c + 2.0 h_c --> nadp_c + 3hmrsACP_c + co2_c + ACP_c<br>ctp_c + kdo_c --> ckdo_c + ppi_c<br>h2o_c + kdo8p_c --> kdo_c + pi_c<br>h2o_c + ara5p_c + pep_c --> kdo8p_c + pi_c<br>h_c + 3dhgulnp_c --> co2_c + xu5p_dsh_L_c<br>atp_c + k_e + h2o_c --> k_c + pi_c + h_c + adp_c<br>h_e + k_e <=> h_c + k_c<br>h2o_c + lcts_c --> gal_c + glc_dsh_D_c<br>lald_dsh_L_c + nad_c + h2o_c <=> 2.0 h_c + lac_dsh_L_c + nadh_c<br>lald_dsh_L_c + nad_c + h2o_c --> 2.0 h_c + lac_dsh_L_c + nadh_c<br>h_c + nadh_c + lald_dsh_L_c <=> nad_c + 12ppd_dsh_S_c<br>h_e + lcts_e <=> h_c + lcts_c<br>nad_c + lac_dsh_D_c <=> h_c + nadh_c + pyr_c<br>q8_c + lac_dsh_D_c --> pyr_c + q8h2_c<br>4mop_c + glu_dsh_L_c --> akg_c + leu_dsh_L_c<br>leu_dsh_L_e + atp_c + h2o_c --> pi_c + leu_dsh_L_c + h_c + adp_c<br>h_e + leu_dsh_L_e <=> h_c + leu_dsh_L_c<br>gthrd_c + mthgxl_c --> lgt_dsh_S_c<br>u23ga_c + lipidX_c --> udp_c + h_c + lipidAds_c<br>0.02 agpg_EC_c + h2o_c --> g3pg_c + 0.07 hdcea_c + 0.5 ocdcea_c + h_c + 0.36 hdca_c + 0.02 ttdca_c + 0.05 ttdcea_c<br>h2o_c + 0.02 agpe_EC_c --> 0.07 hdcea_c + 0.5 ocdcea_c + h_c + 0.36 hdca_c + 0.02 ttdca_c + 0.05 ttdcea_c + g3pe_c<br>0.02 agpc_EC_c + h2o_c --> h_c + 0.07 hdcea_c + 0.5 ocdcea_c + 0.36 hdca_c + g3pc_c + 0.02 ttdca_c + 0.05 ttdcea_c<br>0.02 agpe_EC_c + 0.02 pg_EC_c --> g3pe_c + 0.02 apg_EC_c<br>0.02 agpc_EC_c + 0.02 pg_EC_c --> 0.02 apg_EC_c + g3pc_c<br>0.02 agpg_EC_c + 0.02 pg_EC_c --> 0.02 apg_EC_c + g3pg_c<br>2.0 cdpea_c + 2.0 udpg_c + lipa_c + 3.0 ckdo_c + 3.0 adphep_dsh_LD_c --> 10.0 h_c + lps_EC_c + 3.0 cmp_c + 2.0 cdp_c + 2.0 udp_c + 3.0 adp_c<br>h_c + lys_dsh_L_c --> co2_c + 15dap_c<br>lys_dsh_L_e + atp_c + h2o_c --> lys_dsh_L_c + pi_c + h_c + adp_c<br>h_e + lys_dsh_L_e <=> h_c + lys_dsh_L_c<br>q8_c + lac_dsh_L_c --> pyr_c + q8h2_c<br>mqn8_c + lac_dsh_L_c --> pyr_c + mql8_c<br>h_e + lac_dsh_L_e <=> h_c + lac_dsh_L_c<br>nad_c + mnl1p_c <=> nadh_c + f6p_c + h_c<br>h_c + malACP_c --> co2_c + acACP_c<br>glx_c + h2o_c + accoa_c --> coa_c + mal_dsh_L_c + h_c<br>atp_c + malthx_e + h2o_c --> malthx_c + h_c + pi_c + adp_c<br>maltpt_e + atp_c + h2o_c --> h_c + pi_c + maltpt_c + adp_c<br>atp_c + malttr_e + h2o_c --> malttr_c + h_c + pi_c + adp_c<br>maltttr_e + atp_c + h2o_c --> h_c + pi_c + maltttr_c + adp_c<br>atp_c + malt_e + h2o_c --> malt_c + pi_c + h_c + adp_c<br>malt_e + pep_c --> malt6p_c + pyr_c<br>2.0 h_e + mal_dsh_L_e --> 2.0 h_c + mal_dsh_L_c<br>3.0 h_e + mal_dsh_L_e --> 3.0 h_c + mal_dsh_L_c<br>h_c + man1p_c + gdp_c --> pi_c + gdpmann_c<br>man6p_c <=> f6p_c<br>2.0 pi_c + man6p_e --> man6p_c + 2.0 pi_e<br>nad_c + mana_c <=> nadh_c + fruur_c + h_c<br>man_e + pep_c --> man6p_c + pyr_c<br>2mcit_c --> 2mcacn_c + h2o_c<br>micit_c <=> succ_c + pyr_c<br>oaa_c + ppcoa_c + h2o_c --> coa_c + h_c + 2mcit_c<br>malcoa_c + ACP_c <=> coa_c + malACP_c<br>nad_c + mal_dsh_L_c <=> h_c + oaa_c + nadh_c<br>q8_c + mal_dsh_L_c --> oaa_c + q8h2_c<br>mqn8_c + mal_dsh_L_c --> oaa_c + mql8_c<br>5mdru1p_c --> dkmpp_c + h2o_c<br>nad_c + mal_dsh_L_c --> co2_c + nadh_c + pyr_c<br>nadp_c + mal_dsh_L_c --> pyr_c + co2_c + nadph_c<br>h_c + 2mecdp_c --> h2mb4p_c + h2o_c<br>2p4c2me_c --> 2mecdp_c + cmp_c<br>h_e + melib_e --> h_c + melib_c<br>2me4p_c + ctp_c + h_c --> ppi_c + 4c2me_c<br>atp_c + h2o_c + met_dsh_L_c --> amet_c + pi_c + ppi_c<br>atp_c + met_dsh_D_e + h2o_c --> met_dsh_D_c + pi_c + h_c + adp_c<br>5mthf_c + hcys_dsh_L_c --> met_dsh_L_c + thf_c<br>atp_c + met_dsh_L_e + h2o_c --> pi_c + adp_c + h_c + met_dsh_L_c<br>dhap_c --> mthgxl_c + pi_c<br>h2o_c + mi1p_dsh_D_c --> pi_c + inost_c<br>2mcacn_c + h2o_c --> micit_c<br>malttr_c + h2o_c --> malt_c + glc_dsh_D_c<br>maltttr_c + h2o_c --> malttr_c + glc_dsh_D_c<br>maltpt_c + h2o_c --> maltttr_c + glc_dsh_D_c<br>malthx_c + h2o_c --> maltpt_c + glc_dsh_D_c<br>malthp_c + h2o_c --> malthx_c + glc_dsh_D_c<br>pi_c + maltpt_c <=> maltttr_c + g1p_c<br>pi_c + malthx_c <=> maltpt_c + g1p_c<br>pi_c + malthp_c <=> malthx_c + g1p_c<br>mmcoa_dsh_S_c + h_c --> ppcoa_c + co2_c<br>mmcoa_dsh_R_c <=> mmcoa_dsh_S_c<br>succoa_c --> mmcoa_dsh_R_c<br>mnl_e + pep_c --> mnl1p_c + pyr_c<br>mana_c --> 2ddglcn_c + h2o_c<br>ckdo_c + lipidA_c --> cmp_c + kdolipid4_c + h_c<br>ckdo_c + kdolipid4_c --> cmp_c + kdo2lipid4_c + h_c<br>3mob_c + h2o_c + mlthf_c --> 2dhp_c + thf_c<br>5mta_c + h2o_c --> 5mtr_c + ade_c<br>h2o_c + methf_c <=> 10fthf_c<br>mlthf_c + nadp_c <=> h_c + methf_c + nadph_c<br>mlthf_c + h_c + nadh_c --> nad_c + 5mthf_c<br>5mdr1p_c <=> 5mdru1p_c<br>atp_c + 5mtr_c --> 5mdr1p_c + adp_c + h_c<br>h2o_c + acg5sa_c --> glu5sa_c + ac_c<br>nac_e --> nac_c<br>h2o_c + nad_c --> nmn_c + amp_c + 2.0 h_c<br>h2o_e + nad_e --> nmn_e + amp_e + 2.0 h_e<br>h_c + nadh_c + mqn8_c --> mql8_c + nad_c<br>h_c + nadh_c + q8_c --> q8h2_c + nad_c<br>4.5 h_c + q8_c + nadh_c --> nad_c + q8h2_c + 3.5 h_e<br>mqn8_c + 3.0 h_c + nadh_c --> nad_c + 2.0 h_e + mql8_c<br>2dmmq8_c + 3.8 h_c + nadh_c --> nad_c + 2dmmql8_c + 2.8 h_e<br>h_c + 2dmmq8_c + nadh_c --> 2dmmql8_c + nad_c<br>atp_c + nad_c --> h_c + adp_c + nadp_c<br>h2o_c + nadp_c --> pi_c + nad_c<br>atp_c + dnad_c + nh4_c --> amp_c + h_c + nad_c + ppi_c<br>nad_c + nadph_c --> nadh_c + nadp_c<br>prpp_c + atp_c + nac_c + h2o_c --> nicrnt_c + pi_c + adp_c + ppi_c<br>na1_c + h_e <=> na1_e + h_c<br>2.0 na1_c + 3.0 h_e --> 2.0 na1_e + 3.0 h_c<br>na1_c + 2.0 h_e --> na1_e + 2.0 h_c<br>atp_c + gdp_c <=> gtp_c + adp_c<br>atp_c + udp_c <=> adp_c + utp_c<br>cdp_c + atp_c <=> adp_c + ctp_c<br>atp_c + dtdp_c <=> dttp_c + adp_c<br>atp_c + dgdp_c <=> adp_c + dgtp_c<br>atp_c + dudp_c <=> dutp_c + adp_c<br>atp_c + dcdp_c <=> dctp_c + adp_c<br>atp_c + dadp_c <=> adp_c + datp_c<br>nh4_e <=> nh4_c<br>atp_c + h_c + nmn_c --> nad_c + ppi_c<br>h2o_c + nmn_c --> nicrnt_c + nh4_c<br>h2o_c + nmn_c --> r5p_c + h_c + ncam_c<br>nmn_e --> nmn_c<br>h2o_c + nmn_e --> h_c + r5p_c + ncam_c<br>ncam_c + h2o_c --> nac_c + nh4_c<br>atp_c + h_c + nicrnt_c --> dnad_c + ppi_c<br>dmbzid_c + nicrnt_c --> nac_c + 5prdmbz_c + h_c<br>quln_c + prpp_c + 2.0 h_c --> nicrnt_c + co2_c + ppi_c<br>h_e + no2_e <=> no2_c + h_c<br>2.0 h_c + q8h2_c + no3_c --> no2_c + q8_c + 2.0 h_e + h2o_c<br>2.0 h_c + no3_c + mql8_c --> mqn8_c + no2_c + 2.0 h_e + h2o_c<br>no2_c + no3_e --> no3_c + no2_e<br>sbzcoa_c --> dhna_c + coa_c<br>h2o_c + dump_c --> duri_c + pi_c<br>h2o_c + xmp_c --> pi_c + xtsn_c<br>h2o_c + imp_c --> pi_c + ins_c<br>h2o_c + ump_c --> pi_c + uri_c<br>h2o_c + dcmp_c --> dcyt_c + pi_c<br>h2o_c + cmp_c --> cytd_c + pi_c<br>h2o_c + dtmp_c --> pi_c + thymd_c<br>damp_c + h2o_c --> pi_c + dad_dsh_2_c<br>h2o_c + amp_c --> pi_c + adn_c<br>dgmp_c + h2o_c --> pi_c + dgsn_c<br>gmp_c + h2o_c --> pi_c + gsn_c<br>dgtp_c + h2o_c --> ppi_c + dgmp_c + h_c<br>gtp_c + h2o_c --> ppi_c + gmp_c + h_c<br>h2o_c + dctp_c --> dcmp_c + ppi_c + h_c<br>ctp_c + h2o_c --> cmp_c + ppi_c + h_c<br>datp_c + h2o_c --> h_c + ppi_c + damp_c<br>atp_c + h2o_c --> amp_c + ppi_c + h_c<br>dttp_c + h2o_c --> dtmp_c + ppi_c + h_c<br>h2o_c + utp_c --> ump_c + ppi_c + h_c<br>dgtp_c + h2o_c --> pppi_c + dgsn_c<br>h2o_c + gtp_c --> pppi_c + gsn_c<br>no2_c + 3.0 nadh_c + 5.0 h_c --> 3.0 nad_c + 2.0 h2o_c + nh4_c<br>o2_e <=> o2_c<br>2obut_c + coa_c --> ppcoa_c + for_c<br>orn_c + cbp_c <=> citr_dsh_L_c + pi_c + h_c<br>h_e + ocdca_e --> ocdca_c + h_c<br>5.0 ipdp_c + frdp_c --> octdp_c + 5.0 ppi_c<br>ohpb_c + glu_dsh_L_c <=> akg_c + phthr_c<br>2ohph_c + amet_c --> h_c + 2omph_c + ahcys_c<br>amet_c + 2ombzl_c --> h_c + 2ommbl_c + ahcys_c<br>h_c + 3c4mop_c --> 4mop_c + co2_c<br>0.5 o2_c + 2ommbl_c --> 2omhmbl_c<br>h_c + orot5p_c --> co2_c + ump_c<br>0.5 o2_c + 2omph_c --> 2ombzl_c<br>h2o_c + op4en_c --> 4h2opntn_c<br>h_c + 3ophb_c --> 2oph_c + co2_c<br>0.5 o2_c + 2oph_c --> 2ohph_c<br>orn_c + h_c --> ptrc_c + co2_c<br>akg_c + orn_c --> glu_dsh_L_c + glu5sa_c<br>atp_c + orn_e + h2o_c --> orn_c + pi_c + h_c + adp_c<br>ppi_c + orot5p_c <=> prpp_c + orot_c<br>akg_c + h_c + thmpp_c --> co2_c + ssaltpp_c<br>nad_c + 1pyr5c_c + 2.0 h2o_c --> h_c + nadh_c + glu_dsh_L_c<br>2.0 h_c + nadph_c + 1pyr5c_c --> pro_dsh_L_c + nadp_c<br>coa_c + atp_c + pac_c --> phaccoa_c + ppi_c + amp_c<br>pant_dsh_R_c + atp_c + ala_dsh_B_c --> amp_c + h_c + ppi_c + pnto_dsh_R_c<br>h2o_c + 0.02 pa_EC_c --> pi_c + 0.02 12dgr_EC_c<br>ugmda_c + udcpp_c --> uagmda_c + ump_c<br>paps_c + trdrd_c --> so3_c + trdox_c + pap_c + 2.0 h_c<br>octeACP_c + 0.1 tdeACP_c + 0.72 palmACP_c + 0.04 myrsACP_c + glyc3p_c + 0.14 hdeACP_c --> 2.0 ACP_c + 0.02 pa_EC_c<br>pyr_c + coa_c + nad_c --> co2_c + nadh_c + accoa_c<br>o2_c + pdx5p_c <=> h2o2_c + pydx5p_c<br>phthr_c + nad_c + dxyl5p_c --> pi_c + pdx5p_c + h_c + co2_c + 2.0 h2o_c + nadh_c<br>pdx5p_c + h2o_c --> pi_c + pydxn_c<br>o2_c + h2o_c + peamn_c --> pacald_c + h2o2_c + nh4_c<br>h_c + 0.02 pe_EC_c + cmp_c <=> 0.02 12dgr_EC_c + cdpea_c<br>nad_c + 4per_c <=> h_c + ohpb_c + nadh_c<br>atp_c + f6p_c --> adp_c + fdp_c + h_c<br>atp_c + tag6p_dsh_D_c --> tagdp_dsh_D_c + adp_c + h_c<br>pyr_c + coa_c --> for_c + accoa_c<br>gam1p_c <=> gam6p_c<br>nad_c + 3pg_c --> 3php_c + nadh_c + h_c<br>g6p_c <=> f6p_c<br>atp_c + 3pg_c <=> 13dpg_c + adp_c<br>6pgl_c + h2o_c --> 6pgc_c + h_c<br>h2o_c + 2pglyc_c --> glyclt_c + pi_c<br>2pg_c <=> 3pg_c<br>g1p_c <=> g6p_c<br>h2o_c + 0.02 pgp_EC_c --> pi_c + 0.02 pg_EC_c<br>0.02 cdpdag_EC_c + glyc3p_c <=> cmp_c + 0.02 pgp_EC_c + h_c<br>akg_c + phe_dsh_L_c <=> glu_dsh_L_c + phpyr_c<br>h_e + phe_dsh_L_e <=> phe_dsh_L_c + h_c<br>atp_c + pi_e + h2o_c --> 2.0 pi_c + h_c + adp_c<br>h_e + pi_e <=> h_c + pi_c<br>0.02 pg_EC_c + h2o_c --> 0.07 hdcea_c + 0.5 ocdcea_c + h_c + 0.36 hdca_c + 0.02 agpg_EC_c + 0.02 ttdca_c + 0.05 ttdcea_c<br>0.02 pe_EC_c + h2o_c --> 0.02 agpe_EC_c + 0.07 hdcea_c + 0.5 ocdcea_c + h_c + 0.36 hdca_c + 0.02 ttdca_c + 0.05 ttdcea_c<br>h2o_c + 0.02 pc_EC_c --> h_c + 0.07 hdcea_c + 0.05 ttdcea_c + 0.02 agpc_EC_c + 0.36 hdca_c + 0.02 ttdca_c + 0.5 ocdcea_c<br>man1p_c <=> man6p_c<br>5aprbu_c + h2o_c --> pi_c + 4r5au_c<br>4ampm_c + atp_c --> adp_c + 2mahmp_c<br>atp_c + pnto_dsh_R_c --> 4ppan_c + adp_c + h_c<br>na1_e + pnto_dsh_R_e --> na1_c + pnto_dsh_R_c<br>pyr_c + q8_c + h2o_c --> ac_c + co2_c + q8h2_c<br>h2o_c + ppi_c --> h_c + 2.0 pi_c<br>adp_c + ppap_c <=> atp_c + ppa_c<br>2.0 5aop_c --> h_c + ppbng_c + 2.0 h2o_c<br>pep_c + co2_c + h2o_c --> oaa_c + pi_c + h_c<br>h_c + 4ppcys_c --> co2_c + pan4p_c<br>atp_c + oaa_c --> co2_c + adp_c + pep_c<br>ppcoa_c + succ_c --> succoa_c + ppa_c<br>r1p_c <=> r5p_c<br>2dr1p_c <=> 2dr5p_c<br>4ppan_c + ctp_c + cys_dsh_L_c --> h_c + cmp_c + 4ppcys_c + ppi_c<br>nad_c + pphn_c --> 34hpp_c + co2_c + nadh_c<br>h_c + pphn_c --> co2_c + phpyr_c + h2o_c<br>1.5 o2_c + pppg9_c --> 3.0 h2o_c + ppp9_c<br>pppn_c + h_c + o2_c + nadh_c --> cechddd_c + nad_c<br>h_e + pppn_e <=> pppn_c + h_c<br>pyr_c + atp_c + h2o_c --> amp_c + 2.0 h_c + pi_c + pep_c<br>uaagmda_c --> udcpdp_c + h_c + peptido_EC_c<br>atp_c + gly_c + pram_c <=> pi_c + h_c + gar_c + adp_c<br>fpram_c + atp_c --> 2.0 h_c + pi_c + air_c + adp_c<br>pran_c --> 2cpr5p_c<br>h2o_c + prbamp_c --> prfp_c<br>atp_c + asp_dsh_L_c + 5aizc_c <=> pi_c + h_c + 25aics_c + adp_c<br>h2o_c + prbatp_c --> ppi_c + prbamp_c + h_c<br>gln_dsh_L_c + atp_c + h2o_c + fgam_c --> fpram_c + h_c + pi_c + adp_c + glu_dsh_L_c<br>prfp_c --> prlp_c<br>fad_c + pro_dsh_L_c --> 1pyr5c_c + fadh2_c + h_c<br>atp_c + pro_dsh_L_e + h2o_c --> pi_c + h_c + adp_c + pro_dsh_L_c<br>h_e + pro_dsh_L_e <=> pro_dsh_L_c + h_c<br>pro_dsh_L_e + na1_e --> na1_c + pro_dsh_L_c<br>atp_c + r5p_c <=> amp_c + prpp_c + h_c<br>skm5p_c + pep_c <=> 3psme_c + pi_c<br>h_c + 0.02 ps_EC_c --> co2_c + 0.02 pe_EC_c<br>glu_dsh_L_c + 3php_c --> akg_c + pser_dsh_L_c<br>h2o_c + pser_dsh_L_c --> pi_c + ser_dsh_L_c<br>0.02 cdpdag_EC_c + ser_dsh_L_c <=> cmp_c + 0.02 ps_EC_c + h_c<br>pi_c + ppcoa_c --> coa_c + ppap_c<br>pi_c + accoa_c <=> coa_c + actp_c<br>pan4p_c + h_c + atp_c --> dpcoa_c + ppi_c<br>orn_c + ptrc_e <=> orn_e + ptrc_c<br>ptrc_c + akg_c --> glu_dsh_L_c + 4abutn_c<br>ptrc_e + atp_c + h2o_c --> ptrc_c + h_c + pi_c + adp_c<br>ptrc_e + h_e <=> ptrc_c + h_c<br>pi_c + adn_c <=> r1p_c + ade_c<br>dad_dsh_2_c + pi_c <=> 2dr1p_c + ade_c<br>gsn_c + pi_c <=> gua_c + r1p_c<br>dgsn_c + pi_c <=> 2dr1p_c + gua_c<br>ins_c + pi_c <=> hxan_c + r1p_c<br>pi_c + din_c <=> 2dr1p_c + hxan_c<br>xtsn_c + pi_c <=> r1p_c + xan_c<br>o2_c + pyam5p_c + h2o_c --> pydx5p_c + h2o2_c + nh4_c<br>pydam_c + atp_c --> pyam5p_c + h_c + adp_c<br>pydx_c + atp_c --> pydx5p_c + adp_c + h_c<br>pydxn_c + atp_c --> pdx5p_c + adp_c + h_c<br>h2o_c + pydx5p_c --> pi_c + pydx_c<br>h_c + pep_c + adp_c --> atp_c + pyr_c<br>uri_c + pi_c <=> r1p_c + ura_c<br>h_e + pyr_e <=> h_c + pyr_c<br>dhap_c + iasp_c --> quln_c + h_c + pi_c + 2.0 h2o_c<br>atp_c + ribflv_c --> fmn_c + adp_c + h_c<br>4r5au_c + db4p_c --> pi_c + dmlz_c + 2.0 h2o_c<br>2.0 dmlz_c --> 4r5au_c + ribflv_c<br>atp_c + rib_dsh_D_c --> h_c + adp_c + r5p_c<br>atp_c + rbl_dsh_L_c --> ru5p_dsh_L_c + adp_c + h_c<br>ru5p_dsh_L_c <=> xu5p_dsh_D_c<br>rhcys_c --> dhptd_c + hcys_dsh_L_c<br>atp_c + rib_dsh_D_e + h2o_c --> pi_c + adp_c + h_c + rib_dsh_D_c<br>rmn_c <=> rml_c<br>atp_c + rml_c --> adp_c + rml1p_c + h_c<br>h_e + rmn_e --> h_c + rmn_c<br>rml1p_c <=> lald_dsh_L_c + dhap_c<br>trdrd_c + adp_c --> trdox_c + h2o_c + dadp_c<br>trdrd_c + gdp_c --> trdox_c + dgdp_c + h2o_c<br>trdrd_c + cdp_c --> trdox_c + h2o_c + dcdp_c<br>trdrd_c + udp_c --> dudp_c + trdox_c + h2o_c<br>trdrd_c + atp_c --> trdox_c + h2o_c + datp_c<br>trdrd_c + gtp_c --> trdox_c + h2o_c + dgtp_c<br>trdrd_c + ctp_c --> trdox_c + h2o_c + dctp_c<br>trdrd_c + utp_c --> trdox_c + h2o_c + dutp_c<br>ru5p_dsh_D_c <=> xu5p_dsh_D_c<br>r5p_c <=> ru5p_dsh_D_c<br>5prdmbz_c + h2o_c --> rdmbzi_c + pi_c<br>s7p_c --> gmhep7p_c<br>2.0 h_c + sucarg_c + 2.0 h2o_c --> sucorn_c + co2_c + 2.0 nh4_c<br>gtp_c + atp_c + so4_c + h2o_c --> aps_c + pi_c + gdp_c + ppi_c<br>nad_c + sbt6p_c <=> nadh_c + f6p_c + h_c<br>sbt_dsh_D_e + pep_c --> sbt6p_c + pyr_c<br>h2o_c + sl26da_c --> 26dap_dsh_LL_c + succ_c<br>akg_c + sl26da_c <=> glu_dsh_L_c + sl2a6o_c<br>atp_c + seln_c + h2o_c --> amp_c + pi_c + selnp_c<br>atp_c + h_c + ser_dsh_L_c <=> seramp_c + ppi_c<br>ser_dsh_L_c + accoa_c <=> acser_c + coa_c<br>ser_dsh_D_c --> nh4_c + pyr_c<br>ser_dsh_L_c --> nh4_c + pyr_c<br>h_e + ser_dsh_L_e <=> h_c + ser_dsh_L_c<br>ser_dsh_L_e + na1_e --> na1_c + ser_dsh_L_c<br>h2o_c + sucglu_c --> glu_dsh_L_c + succ_c<br>nad_c + h2o_c + sucgsa_c --> 2.0 h_c + sucglu_c + nadh_c<br>ssaltpp_c + ichor_c --> 2shchc_c + thmpp_c + pyr_c<br>dscl_c + nad_c --> nadh_c + scl_c + h_c<br>fe2_c + scl_c --> 3.0 h_c + sheme_c<br>nadph_c + h_c + 3dhsk_c <=> nadp_c + skm_c<br>atp_c + skm_c --> skm5p_c + adp_c + h_c<br>suchms_c + cys_dsh_L_c --> cyst_dsh_L_c + succ_c + h_c<br>sucorn_c + akg_c --> sucgsa_c + glu_dsh_L_c<br>spmd_c + accoa_c --> N1aspmd_c + coa_c + h_c<br>spmd_c + accoa_c --> coa_c + n8aspmd_c + h_c<br>atp_c + h2o_c + spmd_e --> spmd_c + pi_c + h_c + adp_c<br>ptrc_c + ametam_c --> 5mta_c + spmd_c + h_c<br>2.0 o2s_c + 2.0 h_c --> o2_c + h2o2_c<br>sucsal_c + nad_c + h2o_c --> 2.0 h_c + nadh_c + succ_c<br>nadp_c + sucsal_c + h2o_c --> 2.0 h_c + nadph_c + succ_c<br>coa_c + atp_c + sucbz_c --> sbzcoa_c + ppi_c + amp_c<br>2shchc_c --> h2o_c + sucbz_c<br>succ_e + atp_c + h2o_c --> pi_c + adp_c + h_c + succ_c<br>2.0 h_e + succ_e --> 2.0 h_c + succ_c<br>3.0 h_e + succ_e --> 3.0 h_c + succ_c<br>h_c + succ_c --> h_e + succ_e<br>fad_c + succ_c --> fadh2_c + fum_c<br>q8_c + fadh2_c <=> fad_c + q8h2_c<br>fum_e + succ_c <=> fum_c + succ_e<br>coa_c + succ_c + atp_c <=> pi_c + succoa_c + adp_c<br>pep_c + sucr_e --> pyr_c + suc6p_c<br>3.0 nadp_c + h2s_c + 3.0 h2o_c <=> so3_c + 3.0 nadph_c + 5.0 h_c<br>so4_e + atp_c + h2o_c --> h_c + pi_c + so4_c + adp_c<br>nad_c + altrn_c <=> h_c + nadh_c + tagur_c<br>s7p_c + g3p_c <=> f6p_c + e4p_c<br>tartr_dsh_L_c --> h2o_c + oaa_c<br>tartr_dsh_L_e + succ_c <=> succ_e + tartr_dsh_L_c<br>taur_c + o2_c + akg_c --> h_c + so3_c + co2_c + succ_c + aacald_c<br>atp_c + taur_e + h2o_c --> taur_c + pi_c + h_c + adp_c<br>dtdp4addg_c + accoa_c --> h_c + coa_c + dtdp4aaddg_c<br>glu_dsh_L_c + dtdp4d6dg_c --> akg_c + dtdp4addg_c<br>dtdp4d6dg_c --> dtdp4d6dm_c<br>h_c + nadph_c + dtdp4d6dm_c --> dtdprmn_c + nadp_c<br>dtdpglu_c --> h2o_c + dtdp4d6dg_c<br>atp_c + lipidAds_c --> lipidA_c + adp_c + h_c<br>tagdp_dsh_D_c <=> dhap_c + g3p_c<br>nadp_c + nadh_c + 2.0 h_e --> nad_c + nadph_c + 2.0 h_c<br>succoa_c + h2o_c + thdp_c --> coa_c + sl2a6o_c<br>h_e + thymd_e --> h_c + thymd_c<br>h_e + thymd_e <=> h_c + thymd_c<br>thm_e + atp_c + h2o_c --> pi_c + h_c + thm_c + adp_c<br>thr_dsh_L_c <=> acald_c + gly_c<br>nad_c + thr_dsh_L_c --> nadh_c + 2aobut_c + h_c<br>thr_dsh_L_c --> 2obut_c + nh4_c<br>h2o_c + phom_c --> pi_c + thr_dsh_L_c<br>thr_dsh_L_e + atp_c + h2o_c --> thr_dsh_L_c + h_c + pi_c + adp_c<br>h_e + thr_dsh_L_e <=> h_c + thr_dsh_L_c<br>na1_e + thr_dsh_L_e --> na1_c + thr_dsh_L_c<br>tyr_dsh_L_c + dxyl5p_c + cys_dsh_L_c + atp_c --> ala_dsh_L_c + 4mpetz_c + h_c + co2_c + 4hba_c + h2o_c + ppi_c + amp_c<br>xu5p_dsh_D_c + r5p_c <=> s7p_c + g3p_c<br>xu5p_dsh_D_c + e4p_c <=> f6p_c + g3p_c<br>mql8_c + h_c + tmao_c --> mqn8_c + tma_c + h2o_c<br>tmao_e + h_e + mql8_c --> h2o_e + tma_e + mqn8_c<br>2dmmql8_c + h_c + tmao_c --> 2dmmq8_c + tma_c + h2o_c<br>tmao_e + 2dmmql8_c + h_e --> h2o_e + tma_e + 2dmmq8_c<br>atp_c + thymd_c --> adp_c + dtmp_c + h_c<br>pi_c + thymd_c <=> 2dr1p_c + thym_c<br>mlthf_c + dump_c --> dhf_c + dtmp_c<br>atp_c + thm_c <=> thmmp_c + adp_c + h_c<br>atp_c + thmmp_c <=> thmpp_c + adp_c<br>2mahmp_c + 4mpetz_c + h_c --> ppi_c + thmmp_c<br>dhap_c <=> g3p_c<br>nadph_c + trdox_c + h_c --> nadp_c + trdrd_c<br>h2o_c + tre6p_c --> g6p_c + glc_dsh_D_c<br>h2o_c + tre6p_c --> pi_c + tre_c<br>udpg_c + g6p_c --> udp_c + tre6p_c + h_c<br>h2o_c + tre_c --> 2.0 glc_dsh_D_c<br>h2o_e + tre_e --> 2.0 glc_dsh_D_e<br>tre_e + pep_c --> tre6p_c + pyr_c<br>h2o_c + trp_dsh_L_c <=> pyr_c + indole_c + nh4_c<br>3ig3p_c + ser_dsh_L_c --> trp_dsh_L_c + g3p_c + h2o_c<br>indole_c + ser_dsh_L_c --> trp_dsh_L_c + h2o_c<br>3ig3p_c --> g3p_c + indole_c<br>h_e + trp_dsh_L_e <=> h_c + trp_dsh_L_c<br>h_c + nadh_c + 2h3oppan_c --> glyc_dsh_R_c + nad_c<br>tsul_e + atp_c + h2o_c --> h_c + pi_c + tsul_c + adp_c<br>h_e + ttdca_e --> ttdca_c + h_c<br>akg_c + tyr_dsh_L_c <=> 34hpp_c + glu_dsh_L_c<br>h_e + tyr_dsh_L_e <=> tyr_dsh_L_c + h_c<br>3hmrsACP_c + u3hga_c --> u23ga_c + h_c + ACP_c<br>26dap_dsh_M_c + atp_c + uamag_c --> ugmd_c + pi_c + h_c + adp_c<br>2.0 nad_c + uacmam_c + h2o_c --> 3.0 h_c + 2.0 nadh_c + uacmamu_c<br>uacgam_c --> uacmam_c<br>3hmrsACP_c + uacgam_c <=> u3aga_c + ACP_c<br>pep_c + uacgam_c --> pi_c + uaccg_c<br>h_c + utp_c + acgam1p_c --> ppi_c + uacgam_c<br>uacgam_c + uagmda_c --> udp_c + uaagmda_c + h_c<br>glu_dsh_D_c + uama_c + atp_c --> h_c + pi_c + uamag_c + adp_c<br>uamr_c + ala_dsh_L_c + atp_c --> h_c + pi_c + adp_c + uama_c<br>nadph_c + uaccg_c + h_c --> uamr_c + nadp_c<br>h2o_c + udcpdp_c --> pi_c + udcpp_c + h_c<br>frdp_c + 8.0 ipdp_c --> udcpdp_c + 8.0 ppi_c<br>udpg_c <=> udpgal_c<br>udpgal_c --> udpgalfur_c<br>2.0 nad_c + udpg_c + h2o_c --> udpglcur_c + 3.0 h_c + 2.0 nadh_c<br>udpg_c + gal1p_c <=> g1p_c + udpgal_c<br>urdglyc_c + 2.0 h_c + h2o_c --> glx_c + co2_c + 2.0 nh4_c<br>atp_c + ugmd_c + alaala_c --> h_c + pi_c + ugmda_c + adp_c<br>u3aga_c + h2o_c --> u3hga_c + ac_c<br>atp_c + ump_c <=> adp_c + udp_c<br>2kmb_c + glu_dsh_L_c --> akg_c + met_dsh_L_c<br>uppg3_c + 2.0 amet_c --> dscl_c + 2.0 ahcys_c + h_c<br>hmbil_c --> h2o_c + uppg3_c<br>4.0 h_c + uppg3_c --> 4.0 co2_c + cpppg3_c<br>prpp_c + ura_c --> ppi_c + ump_c<br>h_e + ura_e --> ura_c + h_c<br>h_e + ura_e <=> ura_c + h_c<br>urea_e <=> urea_c<br>atp_c + dump_c <=> dudp_c + adp_c<br>uri_c + gtp_c --> gdp_c + ump_c + h_c<br>h_e + uri_e --> uri_c + h_c<br>h_e + uri_e <=> uri_c + h_c<br>h2o_c + u23ga_c --> lipidX_c + ump_c + 2.0 h_c<br>akg_c + val_dsh_L_c <=> glu_dsh_L_c + 3mob_c<br>atp_c + val_dsh_L_e + h2o_c --> pi_c + h_c + adp_c + val_dsh_L_c<br>h_e + val_dsh_L_e <=> h_c + val_dsh_L_c<br>3mob_c + ala_dsh_L_c --> pyr_c + val_dsh_L_c<br>xu5p_dsh_L_c --> ru5p_dsh_L_c<br>xan_e <=> xan_c<br>h_e + xan_e --> xan_c + h_c<br>prpp_c + xan_c --> ppi_c + xmp_c<br>xtsn_e + h_e <=> xtsn_c + h_c<br>xyl_dsh_D_c <=> xylu_dsh_D_c<br>fru_c --> glc_dsh_D_c<br>xylu_dsh_D_c + atp_c --> xu5p_dsh_D_c + h_c + adp_c<br>atp_c + xyl_dsh_D_e + h2o_c --> xyl_dsh_D_c + pi_c + h_c + adp_c<br>h_e + xyl_dsh_D_e --> h_c + xyl_dsh_D_c</div></td>\n",
       "</tr>\n",
       "</table>"
      ],
      "text/plain": [
       "<SolverBasedModel MODELID_1461534 at 0x109e06c50>"
      ]
     },
     "execution_count": 3,
     "metadata": {},
     "output_type": "execute_result"
    }
   ],
   "source": [
    "model"
   ]
  },
  {
   "cell_type": "code",
   "execution_count": 4,
   "metadata": {
    "collapsed": false
   },
   "outputs": [],
   "source": [
    "from cameo.flux_analysis import simulation"
   ]
  },
  {
   "cell_type": "code",
   "execution_count": 5,
   "metadata": {
    "collapsed": false
   },
   "outputs": [
    {
     "name": "stdout",
     "output_type": "stream",
     "text": [
      "Help on module cameo.flux_analysis.simulation in cameo.flux_analysis:\n",
      "\n",
      "NAME\n",
      "    cameo.flux_analysis.simulation\n",
      "\n",
      "FILE\n",
      "    /Users/joao/Documents/repos/cameo/cameo/flux_analysis/simulation.py\n",
      "\n",
      "DESCRIPTION\n",
      "    Methods for simulating flux distributions.\n",
      "    Currently implements:\n",
      "    * fba - Flux Balance Analysis\n",
      "    * pfba - Parsimonious Flux Balance Analysis\n",
      "    * lmoma - (Linear) Minimization of Metabolic Adjustment\n",
      "    * room - Regulatory On/Off Minimization\n",
      "\n",
      "FUNCTIONS\n",
      "    fba(model, objective=None, *args, **kwargs)\n",
      "        Flux Balance Analysis.\n",
      "        \n",
      "        Parameters\n",
      "        ----------\n",
      "        model: SolverBasedModel\n",
      "        objective: a valid objective - see SolverBaseModel.objective (optional)\n",
      "        \n",
      "        Returns\n",
      "        -------\n",
      "        FluxDistributionResult\n",
      "            Contains the result of the linear solver.\n",
      "    \n",
      "    lmoma(model, reference=None, cache={}, volatile=True, *args, **kwargs)\n",
      "        Linear Minimization Of Metabolic Adjustment.\n",
      "        \n",
      "        Parameters\n",
      "        ----------\n",
      "        model: SolverBasedModel\n",
      "        reference: dict\n",
      "        objective: str or reaction or optlang.Objective\n",
      "            An objective to be minimized/maximized for\n",
      "        volatile: boolean\n",
      "        cache: dict\n",
      "        \n",
      "        Returns\n",
      "        -------\n",
      "        FluxDistributionResult\n",
      "            Contains the result of the linear solver.\n",
      "    \n",
      "    moma(model, reference=None, *args, **kwargs)\n",
      "    \n",
      "    pfba(model, objective=None, *args, **kwargs)\n",
      "        Parsimonious Flux Balance Analysis.\n",
      "        \n",
      "        Parameters\n",
      "        ----------\n",
      "        model: SolverBasedModel\n",
      "        objective: str or reaction or optlang.Objective\n",
      "            An objective to be minimized/maximized for\n",
      "        \n",
      "        Returns\n",
      "        -------\n",
      "        FluxDistributionResult\n",
      "            Contains the result of the linear solver.\n",
      "    \n",
      "    room(model, reference=None, cache={}, volatile=True, delta=0.03, epsilon=0.001, *args, **kwargs)\n",
      "        Regulatory On/Off Minimization [1].\n",
      "        \n",
      "        Parameters\n",
      "        ----------\n",
      "        model: SolverBasedModel\n",
      "        reference: dict\n",
      "        objective: str or reaction or optlang.Objective\n",
      "            An objective to be minimized/maximized for\n",
      "        volatile: boolean\n",
      "        cache: dict\n",
      "        \n",
      "        Returns\n",
      "        -------\n",
      "        FluxDistributionResult\n",
      "            Contains the result of the linear solver.\n",
      "        \n",
      "        References\n",
      "        ----------\n",
      "        [1] Tomer Shlomi, Omer Berkman and Eytan Ruppin, \"Regulatory on/off minimization of metabolic\n",
      "        flux changes after genetic perturbations\", PNAS 2005 102 (21) 7695-7700; doi:10.1073/pnas.0406346102\n",
      "\n",
      "DATA\n",
      "    __all__ = ['fba', 'pfba', 'moma', 'lmoma', 'room']\n",
      "\n",
      "\n"
     ]
    }
   ],
   "source": [
    "help(simulation)"
   ]
  },
  {
   "cell_type": "markdown",
   "metadata": {},
   "source": [
    "Step 1: Simulate the flux distribution of the Wild-Type\n",
    "----------------------------------------------------\n",
    "\n",
    "FBA and PFBA can be used to compute flux distributions for the Wild-Type (model as it as been described) as well as knockouts (next session)"
   ]
  },
  {
   "cell_type": "code",
   "execution_count": 6,
   "metadata": {
    "collapsed": false
   },
   "outputs": [
    {
     "name": "stdout",
     "output_type": "stream",
     "text": [
      "CPU times: user 3 µs, sys: 1e+03 ns, total: 4 µs\n",
      "Wall time: 6.91 µs\n"
     ]
    }
   ],
   "source": [
    "%time\n",
    "fba_result = simulation.fba(model)"
   ]
  },
  {
   "cell_type": "code",
   "execution_count": 7,
   "metadata": {
    "collapsed": false,
    "scrolled": true
   },
   "outputs": [
    {
     "name": "stdout",
     "output_type": "stream",
     "text": [
      "CPU times: user 3 µs, sys: 1 µs, total: 4 µs\n",
      "Wall time: 6.91 µs\n"
     ]
    }
   ],
   "source": [
    "%time\n",
    "pfba_result = simulation.pfba(model)"
   ]
  },
  {
   "cell_type": "markdown",
   "metadata": {},
   "source": [
    "Setp 2: Simulate knockouts phenotypes\n",
    "-----------------------------------\n",
    "\n",
    "Although PFBA and FBA can be used to simulate the effect of knockouts, other methods have been proven more valuable for that task: MOMA and ROOM. In *cameo* we implement a linear version of MOMA.\n",
    "\n",
    "*******************************************\n",
    "Simulating knockouts:\n",
    "\n",
    "* Manipulate the bounds of the reaction (or use the shorthand method knock_out)"
   ]
  },
  {
   "cell_type": "code",
   "execution_count": 9,
   "metadata": {
    "collapsed": false
   },
   "outputs": [
    {
     "data": {
      "text/html": [
       "\n",
       "        <table>\n",
       "            <tr>\n",
       "                <td><strong>Id</strong></td><td>PGI</td>\n",
       "            </tr>\n",
       "            <tr>\n",
       "                <td><strong>Stoichiometry</strong></td><td>g6p_c <=> f6p_c</td>\n",
       "            </tr>\n",
       "            <tr>\n",
       "                <td><strong>Lower bound</strong></td><td>-999999.000000</td>\n",
       "            </tr>\n",
       "            <tr>\n",
       "                <td><strong>Upper bound</strong></td><td>999999.000000</td>\n",
       "            </tr>\n",
       "        </table>\n",
       "        "
      ],
      "text/plain": [
       "<Reaction PGI at 0x109ec19d0>"
      ]
     },
     "execution_count": 9,
     "metadata": {},
     "output_type": "execute_result"
    }
   ],
   "source": [
    "model.reactions.PGI"
   ]
  },
  {
   "cell_type": "code",
   "execution_count": 10,
   "metadata": {
    "collapsed": false
   },
   "outputs": [
    {
     "data": {
      "text/html": [
       "\n",
       "        <table>\n",
       "            <tr>\n",
       "                <td><strong>Id</strong></td><td>PGI</td>\n",
       "            </tr>\n",
       "            <tr>\n",
       "                <td><strong>Stoichiometry</strong></td><td>g6p_c --> f6p_c</td>\n",
       "            </tr>\n",
       "            <tr>\n",
       "                <td><strong>Lower bound</strong></td><td>0.000000</td>\n",
       "            </tr>\n",
       "            <tr>\n",
       "                <td><strong>Upper bound</strong></td><td>0.000000</td>\n",
       "            </tr>\n",
       "        </table>\n",
       "        "
      ],
      "text/plain": [
       "<Reaction PGI at 0x109ec19d0>"
      ]
     },
     "execution_count": 10,
     "metadata": {},
     "output_type": "execute_result"
    }
   ],
   "source": [
    "model.reactions.PGI.knock_out()\n",
    "model.reactions.PGI"
   ]
  },
  {
   "cell_type": "markdown",
   "metadata": {},
   "source": [
    "* Simulate using different methods:"
   ]
  },
  {
   "cell_type": "code",
   "execution_count": 11,
   "metadata": {
    "collapsed": false
   },
   "outputs": [
    {
     "name": "stdout",
     "output_type": "stream",
     "text": [
      "CPU times: user 2 µs, sys: 0 ns, total: 2 µs\n",
      "Wall time: 5.01 µs\n"
     ]
    },
    {
     "data": {
      "text/plain": [
       "0.905983"
      ]
     },
     "execution_count": 11,
     "metadata": {},
     "output_type": "execute_result"
    }
   ],
   "source": [
    "%time\n",
    "fba_knockout_result = simulation.fba(model)\n",
    "fba_knockout_result[model.objective]"
   ]
  },
  {
   "cell_type": "code",
   "execution_count": 12,
   "metadata": {
    "collapsed": false
   },
   "outputs": [
    {
     "data": {
      "text/plain": [
       "0.905983"
      ]
     },
     "execution_count": 12,
     "metadata": {},
     "output_type": "execute_result"
    }
   ],
   "source": [
    "pfba_knockout_result = simulation.pfba(model)\n",
    "pfba_knockout_result[model.objective]"
   ]
  },
  {
   "cell_type": "markdown",
   "metadata": {},
   "source": [
    "MOMA and ROOM relly on a reference (wild-type) flux distribution and we can use the one previously computed.\n",
    "\n",
    "**Parsimonious FBA references seem to produce better results using this methods**"
   ]
  },
  {
   "cell_type": "code",
   "execution_count": 26,
   "metadata": {
    "collapsed": false
   },
   "outputs": [
    {
     "data": {
      "text/plain": [
       "-18.7358"
      ]
     },
     "execution_count": 26,
     "metadata": {},
     "output_type": "execute_result"
    }
   ],
   "source": [
    "lmoma_result[\"2 * EX_glc_lp_e_rp_\"]"
   ]
  },
  {
   "cell_type": "code",
   "execution_count": 14,
   "metadata": {
    "collapsed": false
   },
   "outputs": [
    {
     "name": "stdout",
     "output_type": "stream",
     "text": [
      "CPU times: user 2 µs, sys: 1 µs, total: 3 µs\n",
      "Wall time: 5.01 µs\n"
     ]
    },
    {
     "data": {
      "text/plain": [
       "0.791393"
      ]
     },
     "execution_count": 14,
     "metadata": {},
     "output_type": "execute_result"
    }
   ],
   "source": [
    "%time\n",
    "lmoma_result = simulation.lmoma(model, reference=pfba_result.fluxes)\n",
    "lmoma_result[model.objective]"
   ]
  },
  {
   "cell_type": "code",
   "execution_count": 19,
   "metadata": {
    "collapsed": false
   },
   "outputs": [
    {
     "name": "stdout",
     "output_type": "stream",
     "text": [
      "CPU times: user 2 µs, sys: 1 µs, total: 3 µs\n",
      "Wall time: 5.01 µs\n"
     ]
    },
    {
     "data": {
      "text/plain": [
       "0.887440"
      ]
     },
     "execution_count": 19,
     "metadata": {},
     "output_type": "execute_result"
    }
   ],
   "source": [
    "%time\n",
    "room_result = simulation.room(model, reference=pfba_result.fluxes)\n",
    "room_result[model.objective]"
   ]
  },
  {
   "cell_type": "code",
   "execution_count": 27,
   "metadata": {
    "collapsed": false
   },
   "outputs": [
    {
     "data": {
      "text/plain": [
       "<cameo.core.result.FluxDistributionResult at 0x10aa75b50>"
      ]
     },
     "execution_count": 27,
     "metadata": {},
     "output_type": "execute_result"
    }
   ],
   "source": [
    "room_result"
   ]
  },
  {
   "cell_type": "code",
   "execution_count": null,
   "metadata": {
    "collapsed": true
   },
   "outputs": [],
   "source": []
  }
 ],
 "metadata": {
  "kernelspec": {
   "display_name": "Python 2",
   "language": "python",
   "name": "python2"
  },
  "language_info": {
   "codemirror_mode": {
    "name": "ipython",
    "version": 2
   },
   "file_extension": ".py",
   "mimetype": "text/x-python",
   "name": "python",
   "nbconvert_exporter": "python",
   "pygments_lexer": "ipython2",
   "version": "2.7.9"
  }
 },
 "nbformat": 4,
 "nbformat_minor": 0
}
